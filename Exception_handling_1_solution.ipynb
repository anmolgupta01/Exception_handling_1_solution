{
 "cells": [
  {
   "cell_type": "markdown",
   "id": "25236123",
   "metadata": {},
   "source": [
    "Q1. What is an Exception in python? Write the difference between Exceptions and syntax errors."
   ]
  },
  {
   "cell_type": "markdown",
   "id": "679b21b1",
   "metadata": {},
   "source": [
    "An Exception in Python is an error that occurs during the execution of a program, disrupting the normal flow of the program's instructions. When an exception is raised, it can be caught and handled by the program, allowing for graceful error handling and recovery.\n",
    "\n",
    "Difference between Exceptions and Syntax Errors:\n",
    "\n",
    "Exceptions:\n",
    "\n",
    "Exceptions occur during the runtime of a program.\n",
    "They are generally caused by factors such as invalid input, unexpected conditions, file not found, division by zero, etc.\n",
    "Exceptions are caught and handled using try-except blocks, allowing the program to continue execution with alternative actions.\n",
    "Examples of exceptions include ZeroDivisionError, ValueError, FileNotFoundError, etc.\n",
    "Syntax Errors:\n",
    "\n",
    "Syntax errors occur during the parsing stage, which is before the program starts executing.\n",
    "They are caused by violations of the programming language's grammar rules or improper use of syntax.\n",
    "Syntax errors prevent the program from running altogether. They need to be fixed before the program can be executed.\n",
    "Examples of syntax errors include missing colons, unmatched parentheses, undefined variables, etc."
   ]
  },
  {
   "cell_type": "markdown",
   "id": "73b89076",
   "metadata": {},
   "source": [
    "Q2. What happens when an exception is not handled? Explain with an example."
   ]
  },
  {
   "cell_type": "markdown",
   "id": "f19faba4",
   "metadata": {},
   "source": [
    "When an exception is not handled in a program, it leads to what is known as an \"unhandled exception\" or \"uncaught exception.\" In such cases, the normal flow of the program is disrupted, and the program terminates abruptly, often displaying an error message that describes the exception and its traceback."
   ]
  },
  {
   "cell_type": "code",
   "execution_count": 2,
   "id": "d49cd502",
   "metadata": {},
   "outputs": [
    {
     "ename": "TypeError",
     "evalue": "unsupported operand type(s) for /: 'int' and 'str'",
     "output_type": "error",
     "traceback": [
      "\u001b[1;31m---------------------------------------------------------------------------\u001b[0m",
      "\u001b[1;31mTypeError\u001b[0m                                 Traceback (most recent call last)",
      "Cell \u001b[1;32mIn [2], line 10\u001b[0m\n\u001b[0;32m      7\u001b[0m     \u001b[38;5;28;01mreturn\u001b[39;00m a \u001b[38;5;241m/\u001b[39m b\n\u001b[0;32m      9\u001b[0m \u001b[38;5;28;01mtry\u001b[39;00m:\n\u001b[1;32m---> 10\u001b[0m     result \u001b[38;5;241m=\u001b[39m \u001b[43mdivide\u001b[49m\u001b[43m(\u001b[49m\u001b[38;5;241;43m10\u001b[39;49m\u001b[43m,\u001b[49m\u001b[43m \u001b[49m\u001b[38;5;124;43m'\u001b[39;49m\u001b[38;5;124;43m2\u001b[39;49m\u001b[38;5;124;43m'\u001b[39;49m\u001b[43m)\u001b[49m  \u001b[38;5;66;03m# Attempting to divide by a string\u001b[39;00m\n\u001b[0;32m     11\u001b[0m     logging\u001b[38;5;241m.\u001b[39minfo(\u001b[38;5;124m\"\u001b[39m\u001b[38;5;124mResult \u001b[39m\u001b[38;5;132;01m{}\u001b[39;00m\u001b[38;5;124m\"\u001b[39m\u001b[38;5;241m.\u001b[39mformat(result))\n\u001b[0;32m     13\u001b[0m \u001b[38;5;28;01mexcept\u001b[39;00m \u001b[38;5;167;01mValueError\u001b[39;00m:\n",
      "Cell \u001b[1;32mIn [2], line 7\u001b[0m, in \u001b[0;36mdivide\u001b[1;34m(a, b)\u001b[0m\n\u001b[0;32m      6\u001b[0m \u001b[38;5;28;01mdef\u001b[39;00m \u001b[38;5;21mdivide\u001b[39m(a, b):\n\u001b[1;32m----> 7\u001b[0m     \u001b[38;5;28;01mreturn\u001b[39;00m \u001b[43ma\u001b[49m\u001b[43m \u001b[49m\u001b[38;5;241;43m/\u001b[39;49m\u001b[43m \u001b[49m\u001b[43mb\u001b[49m\n",
      "\u001b[1;31mTypeError\u001b[0m: unsupported operand type(s) for /: 'int' and 'str'"
     ]
    }
   ],
   "source": [
    "#example\n",
    "#this program will through error to illustrate if exception is not handled then program not continue\n",
    "import logging\n",
    "logging.basicConfig(filename = \"test.log\" , level = logging.INFO)\n",
    "\n",
    "def divide(a, b):\n",
    "    return a / b\n",
    "\n",
    "try:\n",
    "    result = divide(10, '2')  # Attempting to divide by a string\n",
    "    logging.info(\"Result {}\".format(result))\n",
    "    \n",
    "except ValueError:\n",
    "    logging.info(\"ValueError occurred\")\n",
    "\n",
    "#this will not get executed\n",
    "logging.info(1+2)"
   ]
  },
  {
   "cell_type": "markdown",
   "id": "4f4a4bae",
   "metadata": {},
   "source": [
    "Q3. Which Python statements are used to catch and handle exceptions? Explain with an example."
   ]
  },
  {
   "cell_type": "markdown",
   "id": "fa7a46f4",
   "metadata": {},
   "source": [
    "Python statements used to catch and handle exceptions are try and except. These statements allow you to gracefully handle errors that may occur during the execution of your program.\n",
    "\n",
    "The try block contains the code that might raise an exception, and the except block contains the code that will be executed if the specified exception occurs. when we use try and except block to handle the exception then out program execution do not get disturbed due any error it handled by except block and continue further execution."
   ]
  },
  {
   "cell_type": "code",
   "execution_count": 3,
   "id": "fb3bd8bf",
   "metadata": {},
   "outputs": [],
   "source": [
    "import logging\n",
    "logging.basicConfig(filename = \"test.log\" , level = logging.INFO)\n",
    "def divide(a, b):\n",
    "    try:\n",
    "        result = a / b\n",
    "        return result\n",
    "    \n",
    "    except ZeroDivisionError:\n",
    "        logging.info(\"Error: Division by zero\")\n",
    "\n",
    "# Example usage\n",
    "numerator = 10\n",
    "denominator = 0\n",
    "\n",
    "result = divide(numerator, denominator)\n",
    "if result is not None:\n",
    "    logging.info(\"Result:{}\".format(result))\n"
   ]
  },
  {
   "cell_type": "markdown",
   "id": "f70ad8be",
   "metadata": {},
   "source": [
    "Q4. Explain with an example:\n",
    "\n",
    "a. try and else\n",
    "b. finally\n",
    "c. raise"
   ]
  },
  {
   "cell_type": "markdown",
   "id": "aea529d0",
   "metadata": {},
   "source": [
    "a]  The try block is used to wrap a piece of code that might raise an exception. If an exception occurs within the try block, the code within the corresponding except block(s) will be executed. However, if no exception occurs, the code within the else block will be executed."
   ]
  },
  {
   "cell_type": "markdown",
   "id": "9b552012",
   "metadata": {},
   "source": [
    "b]  The finally block is used to specify code that should be executed regardless of whether an exception was raised or not. It is often used for cleanup operations, such as closing files or releasing resources."
   ]
  },
  {
   "cell_type": "markdown",
   "id": "f147d989",
   "metadata": {},
   "source": [
    "c] The raise keyword is used to explicitly raise an exception in Python. It allows you to create custom exceptions or propagate existing ones."
   ]
  },
  {
   "cell_type": "code",
   "execution_count": 7,
   "id": "a6df5f63",
   "metadata": {},
   "outputs": [],
   "source": [
    "#try and else example\n",
    "import logging\n",
    "logging.basicConfig(filename = \"test.log\" , level = logging.INFO)\n",
    "try :\n",
    "    f= open(\"test1.txt\" , 'w')\n",
    "    f.write(\" write into my file \" )\n",
    "except Exception  as e : \n",
    "    logging.info(\"this is my except block:{}\".format(e))\n",
    "else : \n",
    "    f.close()\n",
    "    logging.info(\" this will be executed once your try will execute without error\" )\n"
   ]
  },
  {
   "cell_type": "code",
   "execution_count": 8,
   "id": "83a8df11",
   "metadata": {},
   "outputs": [
    {
     "ename": "FileNotFoundError",
     "evalue": "[Errno 2] No such file or directory: 'example.txt'",
     "output_type": "error",
     "traceback": [
      "\u001b[1;31m---------------------------------------------------------------------------\u001b[0m",
      "\u001b[1;31mFileNotFoundError\u001b[0m                         Traceback (most recent call last)",
      "Cell \u001b[1;32mIn [8], line 6\u001b[0m\n\u001b[0;32m      4\u001b[0m logging\u001b[38;5;241m.\u001b[39mbasicConfig(filename \u001b[38;5;241m=\u001b[39m \u001b[38;5;124m\"\u001b[39m\u001b[38;5;124mtest.log\u001b[39m\u001b[38;5;124m\"\u001b[39m , level \u001b[38;5;241m=\u001b[39m logging\u001b[38;5;241m.\u001b[39mINFO)\n\u001b[0;32m      5\u001b[0m \u001b[38;5;28;01mtry\u001b[39;00m :\n\u001b[1;32m----> 6\u001b[0m     f \u001b[38;5;241m=\u001b[39m \u001b[38;5;28;43mopen\u001b[39;49m\u001b[43m(\u001b[49m\u001b[38;5;124;43m\"\u001b[39;49m\u001b[38;5;124;43mexample.txt\u001b[39;49m\u001b[38;5;124;43m\"\u001b[39;49m\u001b[43m \u001b[49m\u001b[43m,\u001b[49m\u001b[43m \u001b[49m\u001b[38;5;124;43m'\u001b[39;49m\u001b[38;5;124;43mr\u001b[39;49m\u001b[38;5;124;43m'\u001b[39;49m\u001b[43m)\u001b[49m\n\u001b[0;32m      7\u001b[0m     f\u001b[38;5;241m.\u001b[39mwrite(\u001b[38;5;124m\"\u001b[39m\u001b[38;5;124mwrite something\u001b[39m\u001b[38;5;124m\"\u001b[39m )\n\u001b[0;32m      8\u001b[0m \u001b[38;5;28;01mfinally\u001b[39;00m : \n",
      "File \u001b[1;32m~\\AppData\\Roaming\\Python\\Python311\\site-packages\\IPython\\core\\interactiveshell.py:282\u001b[0m, in \u001b[0;36m_modified_open\u001b[1;34m(file, *args, **kwargs)\u001b[0m\n\u001b[0;32m    275\u001b[0m \u001b[38;5;28;01mif\u001b[39;00m file \u001b[38;5;129;01min\u001b[39;00m {\u001b[38;5;241m0\u001b[39m, \u001b[38;5;241m1\u001b[39m, \u001b[38;5;241m2\u001b[39m}:\n\u001b[0;32m    276\u001b[0m     \u001b[38;5;28;01mraise\u001b[39;00m \u001b[38;5;167;01mValueError\u001b[39;00m(\n\u001b[0;32m    277\u001b[0m         \u001b[38;5;124mf\u001b[39m\u001b[38;5;124m\"\u001b[39m\u001b[38;5;124mIPython won\u001b[39m\u001b[38;5;124m'\u001b[39m\u001b[38;5;124mt let you open fd=\u001b[39m\u001b[38;5;132;01m{\u001b[39;00mfile\u001b[38;5;132;01m}\u001b[39;00m\u001b[38;5;124m by default \u001b[39m\u001b[38;5;124m\"\u001b[39m\n\u001b[0;32m    278\u001b[0m         \u001b[38;5;124m\"\u001b[39m\u001b[38;5;124mas it is likely to crash IPython. If you know what you are doing, \u001b[39m\u001b[38;5;124m\"\u001b[39m\n\u001b[0;32m    279\u001b[0m         \u001b[38;5;124m\"\u001b[39m\u001b[38;5;124myou can use builtins\u001b[39m\u001b[38;5;124m'\u001b[39m\u001b[38;5;124m open.\u001b[39m\u001b[38;5;124m\"\u001b[39m\n\u001b[0;32m    280\u001b[0m     )\n\u001b[1;32m--> 282\u001b[0m \u001b[38;5;28;01mreturn\u001b[39;00m \u001b[43mio_open\u001b[49m\u001b[43m(\u001b[49m\u001b[43mfile\u001b[49m\u001b[43m,\u001b[49m\u001b[43m \u001b[49m\u001b[38;5;241;43m*\u001b[39;49m\u001b[43margs\u001b[49m\u001b[43m,\u001b[49m\u001b[43m \u001b[49m\u001b[38;5;241;43m*\u001b[39;49m\u001b[38;5;241;43m*\u001b[39;49m\u001b[43mkwargs\u001b[49m\u001b[43m)\u001b[49m\n",
      "\u001b[1;31mFileNotFoundError\u001b[0m: [Errno 2] No such file or directory: 'example.txt'"
     ]
    }
   ],
   "source": [
    "#finally example\n",
    "#this program will through error but still \"finally\" block get executed\n",
    "import logging\n",
    "logging.basicConfig(filename = \"test.log\" , level = logging.INFO)\n",
    "try :\n",
    "    f = open(\"example.txt\" , 'r')\n",
    "    f.write(\"write something\" )\n",
    "finally : \n",
    "    logging.info(\"finally will execute itself in any situation\")"
   ]
  },
  {
   "cell_type": "code",
   "execution_count": 9,
   "id": "05655d77",
   "metadata": {},
   "outputs": [],
   "source": [
    "#raise example\n",
    "import logging\n",
    "logging.basicConfig(filename = \"test.log\" , level = logging.INFO)\n",
    "def divide(x, y):\n",
    "    if y == 0:\n",
    "        raise ValueError(\"Cannot divide by zero.\")\n",
    "    return x / y\n",
    "\n",
    "try:\n",
    "    result = divide(10, 0)\n",
    "except ValueError as ve:\n",
    "    logging.info(ve)\n",
    "else:\n",
    "    logging.info(\"Result:{}\".format(result))"
   ]
  },
  {
   "cell_type": "markdown",
   "id": "f13541f9",
   "metadata": {},
   "source": [
    "Q5. What are Custom Exceptions in python? Why do we need Custom Exceptions? Explain with an example."
   ]
  },
  {
   "cell_type": "markdown",
   "id": "efa26a3b",
   "metadata": {},
   "source": [
    "Custom exceptions allow us to define our own exception classes that inherit from the built-in Exception class or its subclasses. These custom exception classes let us handle specific error conditions in our code more effectively and provide meaningful error messages or information to users or developers."
   ]
  },
  {
   "cell_type": "code",
   "execution_count": 10,
   "id": "cdd5d995",
   "metadata": {},
   "outputs": [],
   "source": [
    "import logging\n",
    "logging.basicConfig(filename = \"test.log\" , level = logging.INFO)\n",
    "class CustomError(Exception):\n",
    "    def __init__(self, message):\n",
    "        self.message = message\n",
    "        super().__init__(self.message)\n",
    "\n",
    "def divide(a, b):\n",
    "    if b == 0:\n",
    "        raise CustomError(\"Division by zero is not allowed.\")\n",
    "    return a / b\n",
    "\n",
    "try:\n",
    "    result = divide(10, 0)\n",
    "except CustomError as e:\n",
    "    logging.info(\"An error occurred:{}\".format(e))\n",
    "else:\n",
    "    logging.info(\"Result:{}\".format(result))\n"
   ]
  },
  {
   "cell_type": "markdown",
   "id": "2119c5da",
   "metadata": {},
   "source": [
    "Q6. Create custom exception class. Use this class to handle an exception."
   ]
  },
  {
   "cell_type": "code",
   "execution_count": 12,
   "id": "b26286a3",
   "metadata": {},
   "outputs": [
    {
     "name": "stdout",
     "output_type": "stream",
     "text": [
      "enter your age34\n"
     ]
    }
   ],
   "source": [
    "import logging\n",
    "logging.basicConfig(filename = \"test.log\" , level = logging.INFO)\n",
    "class validateage(Exception):\n",
    "    \n",
    "    def __init__(self , msg) : \n",
    "        self.msg = msg\n",
    "def validaetage(age) : \n",
    "    if age < 0 :\n",
    "        raise validateage(\"entered age is negative \" )\n",
    "    elif age > 200 : \n",
    "        raise validateage(\"enterd age is very very high \" )\n",
    "    else :\n",
    "        logging.info(\"age is valid\" )\n",
    "\n",
    "try :\n",
    "    age = int(input(\"enter your age\" ))\n",
    "    validaetage(age)\n",
    "except validateage as e :\n",
    "    logging.info(e)"
   ]
  },
  {
   "cell_type": "code",
   "execution_count": null,
   "id": "3f83fa9e",
   "metadata": {},
   "outputs": [],
   "source": []
  },
  {
   "cell_type": "code",
   "execution_count": null,
   "id": "29c1e670",
   "metadata": {},
   "outputs": [],
   "source": []
  }
 ],
 "metadata": {
  "kernelspec": {
   "display_name": "Python 3 (ipykernel)",
   "language": "python",
   "name": "python3"
  },
  "language_info": {
   "codemirror_mode": {
    "name": "ipython",
    "version": 3
   },
   "file_extension": ".py",
   "mimetype": "text/x-python",
   "name": "python",
   "nbconvert_exporter": "python",
   "pygments_lexer": "ipython3",
   "version": "3.11.4"
  }
 },
 "nbformat": 4,
 "nbformat_minor": 5
}
