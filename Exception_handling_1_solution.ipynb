{
 "cells": [
  {
   "cell_type": "markdown",
   "id": "25236123",
   "metadata": {},
   "source": [
    "# Q1. What is an Exception in python? Write the difference between Exceptions and syntax errors."
   ]
  },
  {
   "cell_type": "markdown",
   "id": "679b21b1",
   "metadata": {},
   "source": [
    "An Exception in Python is an error that occurs during the execution of a program, disrupting the normal flow of the program's instructions. When an exception is raised, it can be caught and handled by the program, allowing for graceful error handling and recovery.\n",
    "\n",
    "Difference between Exceptions and Syntax Errors:\n",
    "\n",
    "Exceptions:\n",
    "\n",
    "Exceptions occur during the runtime of a program.\n",
    "They are generally caused by factors such as invalid input, unexpected conditions, file not found, division by zero, etc.\n",
    "Exceptions are caught and handled using try-except blocks, allowing the program to continue execution with alternative actions.\n",
    "Examples of exceptions include ZeroDivisionError, ValueError, FileNotFoundError, etc.\n",
    "Syntax Errors:\n",
    "\n",
    "Syntax errors occur during the parsing stage, which is before the program starts executing.\n",
    "They are caused by violations of the programming language's grammar rules or improper use of syntax.\n",
    "Syntax errors prevent the program from running altogether. They need to be fixed before the program can be executed.\n",
    "Examples of syntax errors include missing colons, unmatched parentheses, undefined variables, etc."
   ]
  },
  {
   "cell_type": "markdown",
   "id": "73b89076",
   "metadata": {},
   "source": [
    "# Q2. What happens when an exception is not handled? Explain with an example."
   ]
  },
  {
   "cell_type": "markdown",
   "id": "f19faba4",
   "metadata": {},
   "source": [
    "When an exception is not handled in a program, it leads to what is known as an \"unhandled exception\" or \"uncaught exception.\" In such cases, the normal flow of the program is disrupted, and the program terminates abruptly, often displaying an error message that describes the exception and its traceback."
   ]
  },
  {
   "cell_type": "code",
   "execution_count": 1,
   "id": "d49cd502",
   "metadata": {},
   "outputs": [
    {
     "name": "stdout",
     "output_type": "stream",
     "text": [
      "Error: Cannot divide by zero\n"
     ]
    }
   ],
   "source": [
    "def divide_numbers(a, b):\n",
    "    result = 0\n",
    "    try:\n",
    "        result = a / b\n",
    "    except ZeroDivisionError:\n",
    "        print(\"Error: Cannot divide by zero\")\n",
    "\n",
    "# Example 1: Exception handled\n",
    "divide_numbers(10, 2)  # This will execute without any issue\n",
    "\n",
    "# Example 2: Exception not handled\n",
    "divide_numbers(10, 0)  # This will raise a ZeroDivisionError and terminate the program if not handled\n"
   ]
  },
  {
   "cell_type": "markdown",
   "id": "3a9b8830",
   "metadata": {},
   "source": [
    "In the first example, where the division is by a non-zero number, the code runs successfully without any issues. However, in the second example, where the division is by zero, a ZeroDivisionError is raised. If this exception is not handled, the program will terminate abruptly, and an error message will be displayed. If the program is part of a larger system, this sudden termination could have cascading effects on the overall application.\n",
    "\n",
    "To handle the exception and prevent the program from terminating, you can use a try-except block, as shown in the first example. This way, you can gracefully handle the error and take appropriate actions, such as printing an error message or logging the issue, instead of letting the program crash.\n",
    "\n",
    "\n",
    "\n",
    "\n",
    "\n"
   ]
  },
  {
   "cell_type": "markdown",
   "id": "4f4a4bae",
   "metadata": {},
   "source": [
    "# Q3. Which Python statements are used to catch and handle exceptions? Explain with an example."
   ]
  },
  {
   "cell_type": "markdown",
   "id": "fa7a46f4",
   "metadata": {},
   "source": [
    "In Python, the `try`, `except`, `else`, and `finally` statements are used to catch and handle exceptions. These statements provide a way to gracefully handle errors and prevent the program from terminating abruptly. Here's an explanation of each statement along with an example:\n",
    "\n",
    "1. **try:** This block contains the code that might raise an exception.\n",
    "\n",
    "2. **except:** If an exception occurs in the `try` block, the code in the `except` block is executed. This block catches and handles the exception.\n",
    "\n",
    "3. **else:** This block is optional and is executed if no exceptions occur in the `try` block.\n",
    "\n",
    "4. **finally:** This block is optional and is always executed, whether an exception occurred or not. It is often used for cleanup operations, such as closing files or releasing resources.\n",
    "\n",
    "\n",
    "In this example, the `try` block attempts to perform the division, and if a `ZeroDivisionError` occurs, the `except` block is executed. If no exception occurs, the `else` block is executed. The `finally` block always executes, providing a place to perform cleanup operations.\n",
    "\n",
    "By using these statements, you can control the flow of your program and handle exceptions in a way that prevents the program from crashing and allows you to take appropriate actions when errors occur."
   ]
  },
  {
   "cell_type": "code",
   "execution_count": 2,
   "id": "fb3bd8bf",
   "metadata": {},
   "outputs": [],
   "source": [
    "import logging\n",
    "logging.basicConfig(filename = \"test.log\" , level = logging.INFO)\n",
    "def divide(a, b):\n",
    "    try:\n",
    "        result = a / b\n",
    "        return result\n",
    "    \n",
    "    except ZeroDivisionError:\n",
    "        logging.info(\"Error: Division by zero\")\n",
    "\n",
    "# Example usage\n",
    "numerator = 10\n",
    "denominator = 0\n",
    "\n",
    "result = divide(numerator, denominator)\n",
    "if result is not None:\n",
    "    logging.info(\"Result:{}\".format(result))\n"
   ]
  },
  {
   "cell_type": "markdown",
   "id": "f70ad8be",
   "metadata": {},
   "source": [
    "# Q4. Explain with an example:\n",
    "\n",
    "# a. try and else\n",
    "# b. finally\n",
    "# c. raise"
   ]
  },
  {
   "cell_type": "markdown",
   "id": "48880105",
   "metadata": {},
   "source": [
    "## a. try and else:"
   ]
  },
  {
   "cell_type": "code",
   "execution_count": 3,
   "id": "8e83bcd1",
   "metadata": {},
   "outputs": [
    {
     "name": "stdout",
     "output_type": "stream",
     "text": [
      "Division successful. Result: 5.0\n",
      "Error: Cannot divide by zero\n"
     ]
    }
   ],
   "source": [
    "def divide_numbers(a, b):\n",
    "    result = 0\n",
    "    try:\n",
    "        result = a / b\n",
    "    except ZeroDivisionError:\n",
    "        print(\"Error: Cannot divide by zero\")\n",
    "    else:\n",
    "        print(\"Division successful. Result:\", result)\n",
    "\n",
    "# Example 1: Exception handled\n",
    "divide_numbers(10, 2)\n",
    "# Output:\n",
    "# Division successful. Result: 5.0\n",
    "\n",
    "# Example 2: Exception handled with division by zero\n",
    "divide_numbers(10, 0)\n",
    "# Output:\n",
    "# Error: Cannot divide by zero\n"
   ]
  },
  {
   "cell_type": "markdown",
   "id": "380d0301",
   "metadata": {},
   "source": [
    "In this example, the try block attempts to perform the division, and if a ZeroDivisionError occurs, the except block is executed. If no exception occurs, the else block is executed."
   ]
  },
  {
   "cell_type": "markdown",
   "id": "7e362325",
   "metadata": {},
   "source": [
    "## b. finally:"
   ]
  },
  {
   "cell_type": "code",
   "execution_count": 4,
   "id": "9db530ee",
   "metadata": {},
   "outputs": [
    {
     "name": "stdout",
     "output_type": "stream",
     "text": [
      "This block always executes, regardless of whether an exception occurred.\n",
      "Error: Cannot divide by zero\n",
      "This block always executes, regardless of whether an exception occurred.\n"
     ]
    }
   ],
   "source": [
    "def divide_numbers(a, b):\n",
    "    result = 0\n",
    "    try:\n",
    "        result = a / b\n",
    "    except ZeroDivisionError:\n",
    "        print(\"Error: Cannot divide by zero\")\n",
    "    finally:\n",
    "        print(\"This block always executes, regardless of whether an exception occurred.\")\n",
    "\n",
    "# Example 1: Exception handled\n",
    "divide_numbers(10, 2)\n",
    "# Output:\n",
    "# This block always executes, regardless of whether an exception occurred.\n",
    "\n",
    "# Example 2: Exception handled with division by zero\n",
    "divide_numbers(10, 0)\n",
    "# Output:\n",
    "# Error: Cannot divide by zero\n",
    "# This block always executes, regardless of whether an exception occurred.\n"
   ]
  },
  {
   "cell_type": "markdown",
   "id": "1278c89a",
   "metadata": {},
   "source": [
    "In this example, the finally block always executes, whether an exception occurred or not. It is often used for cleanup operations.\n",
    "\n"
   ]
  },
  {
   "cell_type": "markdown",
   "id": "07b2aac1",
   "metadata": {},
   "source": [
    "## c. raise:"
   ]
  },
  {
   "cell_type": "code",
   "execution_count": 5,
   "id": "13f09960",
   "metadata": {},
   "outputs": [
    {
     "name": "stdout",
     "output_type": "stream",
     "text": [
      "Number is positive\n",
      "Error: Number must be positive\n"
     ]
    }
   ],
   "source": [
    "def check_positive_number(num):\n",
    "    try:\n",
    "        if num <= 0:\n",
    "            raise ValueError(\"Number must be positive\")\n",
    "        else:\n",
    "            print(\"Number is positive\")\n",
    "    except ValueError as e:\n",
    "        print(f\"Error: {e}\")\n",
    "\n",
    "# Example 1: Positive number\n",
    "check_positive_number(5)\n",
    "# Output:\n",
    "# Number is positive\n",
    "\n",
    "# Example 2: Non-positive number\n",
    "check_positive_number(-3)\n",
    "# Output:\n",
    "# Error: Number must be positive\n"
   ]
  },
  {
   "cell_type": "markdown",
   "id": "04b413a9",
   "metadata": {},
   "source": [
    "In this example, the raise statement is used to raise a ValueError if the input number is not positive. The except block then handles this exception and prints an error message."
   ]
  },
  {
   "cell_type": "markdown",
   "id": "f13541f9",
   "metadata": {},
   "source": [
    "# Q5. What are Custom Exceptions in python? Why do we need Custom Exceptions? Explain with an example."
   ]
  },
  {
   "cell_type": "markdown",
   "id": "efa26a3b",
   "metadata": {},
   "source": [
    "Custom exceptions in Python are user-defined exception classes that extend the built-in Exception class or its subclasses. Creating custom exceptions allows you to define and raise your own types of exceptions tailored to the specific needs of your application. You can provide more meaningful information about the nature of the error and handle it in a way that makes sense for your program."
   ]
  },
  {
   "cell_type": "code",
   "execution_count": 10,
   "id": "cdd5d995",
   "metadata": {},
   "outputs": [],
   "source": [
    "import logging\n",
    "logging.basicConfig(filename = \"test.log\" , level = logging.INFO)\n",
    "class CustomError(Exception):\n",
    "    def __init__(self, message):\n",
    "        self.message = message\n",
    "        super().__init__(self.message)\n",
    "\n",
    "def divide(a, b):\n",
    "    if b == 0:\n",
    "        raise CustomError(\"Division by zero is not allowed.\")\n",
    "    return a / b\n",
    "\n",
    "try:\n",
    "    result = divide(10, 0)\n",
    "except CustomError as e:\n",
    "    logging.info(\"An error occurred:{}\".format(e))\n",
    "else:\n",
    "    logging.info(\"Result:{}\".format(result))\n"
   ]
  },
  {
   "cell_type": "markdown",
   "id": "3e6305a5",
   "metadata": {},
   "source": [
    "Reasons for using custom exceptions:\n",
    "Clarity and Readability: Custom exceptions make your code more readable and maintainable by providing a clear indication of what went wrong. They can express the intent of the error more effectively than generic built-in exceptions.\n",
    "\n",
    "Specific Error Handling: Custom exceptions allow you to handle specific error conditions in a more granular way. This can lead to more precise error handling and more robust error recovery mechanisms.\n",
    "\n",
    "Abstraction: Using custom exceptions abstracts away implementation details of error handling, allowing you to focus on the logic of your application. It also separates concerns by encapsulating error-related details within the exception class.\n",
    "\n",
    "Consistency: By defining a set of custom exceptions for your application, you maintain a consistent approach to error handling throughout your codebase.\n",
    "\n",
    "In summary, custom exceptions in Python provide a way to create more expressive and specific error handling in your code, enhancing its readability and maintainability. They are particularly useful when dealing with unique error conditions specific to your application domain."
   ]
  },
  {
   "cell_type": "markdown",
   "id": "2119c5da",
   "metadata": {},
   "source": [
    "# Q6. Create custom exception class. Use this class to handle an exception."
   ]
  },
  {
   "cell_type": "code",
   "execution_count": 12,
   "id": "b26286a3",
   "metadata": {},
   "outputs": [
    {
     "name": "stdout",
     "output_type": "stream",
     "text": [
      "enter your age34\n"
     ]
    }
   ],
   "source": [
    "import logging\n",
    "logging.basicConfig(filename = \"test.log\" , level = logging.INFO)\n",
    "class validateage(Exception):\n",
    "    \n",
    "    def __init__(self , msg) : \n",
    "        self.msg = msg\n",
    "def validaetage(age) : \n",
    "    if age < 0 :\n",
    "        raise validateage(\"entered age is negative \" )\n",
    "    elif age > 200 : \n",
    "        raise validateage(\"enterd age is very very high \" )\n",
    "    else :\n",
    "        logging.info(\"age is valid\" )\n",
    "\n",
    "try :\n",
    "    age = int(input(\"enter your age\" ))\n",
    "    validaetage(age)\n",
    "except validateage as e :\n",
    "    logging.info(e)"
   ]
  },
  {
   "cell_type": "code",
   "execution_count": null,
   "id": "3f83fa9e",
   "metadata": {},
   "outputs": [],
   "source": []
  },
  {
   "cell_type": "code",
   "execution_count": null,
   "id": "29c1e670",
   "metadata": {},
   "outputs": [],
   "source": []
  }
 ],
 "metadata": {
  "kernelspec": {
   "display_name": "Python 3 (ipykernel)",
   "language": "python",
   "name": "python3"
  },
  "language_info": {
   "codemirror_mode": {
    "name": "ipython",
    "version": 3
   },
   "file_extension": ".py",
   "mimetype": "text/x-python",
   "name": "python",
   "nbconvert_exporter": "python",
   "pygments_lexer": "ipython3",
   "version": "3.11.4"
  }
 },
 "nbformat": 4,
 "nbformat_minor": 5
}
